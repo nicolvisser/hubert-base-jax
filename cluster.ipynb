{
 "cells": [
  {
   "cell_type": "code",
   "execution_count": 1,
   "metadata": {},
   "outputs": [],
   "source": [
    "from pathlib import Path\n",
    "\n",
    "import faiss\n",
    "import numpy as np\n",
    "from tqdm import tqdm"
   ]
  },
  {
   "cell_type": "markdown",
   "metadata": {},
   "source": [
    "## Load the features you want to cluster\n",
    "\n",
    "We will use the MFCCS of the `train-clean-100` set of LibriSpeech and use 500 clusters."
   ]
  },
  {
   "cell_type": "code",
   "execution_count": 2,
   "metadata": {},
   "outputs": [],
   "source": [
    "feature_dir = Path(\"/media/SSD/data/LibriSpeech/mfcc/train-clean-100\")\n",
    "num_clusters = 100"
   ]
  },
  {
   "cell_type": "code",
   "execution_count": 3,
   "metadata": {},
   "outputs": [
    {
     "name": "stdout",
     "output_type": "stream",
     "text": [
      "Found 28539 feature files\n"
     ]
    }
   ],
   "source": [
    "feature_paths = list(feature_dir.rglob(\"*.npy\"))\n",
    "print(f\"Found {len(feature_paths)} feature files\")"
   ]
  },
  {
   "cell_type": "code",
   "execution_count": 4,
   "metadata": {},
   "outputs": [],
   "source": [
    "features = [np.load(path) for path in feature_paths]"
   ]
  },
  {
   "cell_type": "code",
   "execution_count": 5,
   "metadata": {},
   "outputs": [],
   "source": [
    "features = np.concatenate(features, axis=0)"
   ]
  },
  {
   "cell_type": "code",
   "execution_count": 6,
   "metadata": {},
   "outputs": [
    {
     "data": {
      "text/plain": [
       "(36205660, 39)"
      ]
     },
     "execution_count": 6,
     "metadata": {},
     "output_type": "execute_result"
    }
   ],
   "source": [
    "features.shape"
   ]
  },
  {
   "cell_type": "code",
   "execution_count": 7,
   "metadata": {},
   "outputs": [
    {
     "name": "stdout",
     "output_type": "stream",
     "text": [
      "Sampling a subset of 5000000 / 36205660 for training\n",
      "Clustering 5000000 points in 39D to 100 clusters, redo 1 times, 200 iterations\n",
      "  Preprocessing in 1.86 s\n",
      "  Iteration 199 (140.96 s, search 114.81 s): objective=7.66662e+09 imbalance=1.195 nsplit=0       \n"
     ]
    }
   ],
   "source": [
    "d = features.shape[1]\n",
    "\n",
    "kmeans = faiss.Kmeans(\n",
    "    d,\n",
    "    num_clusters,\n",
    "    niter=200,\n",
    "    nredo=1,\n",
    "    max_points_per_centroid=50000,\n",
    "    spherical=False,\n",
    "    verbose=True,\n",
    ")\n",
    "\n",
    "kmeans.train(features)\n",
    "\n",
    "cluster_centers = kmeans.centroids\n"
   ]
  },
  {
   "cell_type": "code",
   "execution_count": 8,
   "metadata": {},
   "outputs": [],
   "source": [
    "np.save(\"/media/SSD/data/LibriSpeech/mfcc-clustered/cluster_centers_100.npy\", cluster_centers)"
   ]
  },
  {
   "cell_type": "markdown",
   "metadata": {},
   "source": [
    "## Dump the cluster indices\n",
    "\n",
    "We will use these as targets to train HuBERT. Therefore we need them for the full LibriSpeech dataset."
   ]
  },
  {
   "cell_type": "code",
   "execution_count": 9,
   "metadata": {},
   "outputs": [
    {
     "name": "stdout",
     "output_type": "stream",
     "text": [
      "Found 292367 feature files\n"
     ]
    }
   ],
   "source": [
    "feature_dir = Path(\"/media/SSD/data/LibriSpeech/mfcc\")\n",
    "output_dir = Path(\"/media/SSD/data/LibriSpeech/mfcc-clustered/km100-cluster-ids\")\n",
    "\n",
    "feature_paths = list(feature_dir.rglob(\"*.npy\"))\n",
    "print(f\"Found {len(feature_paths)} feature files\")"
   ]
  },
  {
   "cell_type": "code",
   "execution_count": 10,
   "metadata": {},
   "outputs": [
    {
     "name": "stderr",
     "output_type": "stream",
     "text": [
      "100%|██████████| 292367/292367 [03:09<00:00, 1541.90it/s]\n"
     ]
    }
   ],
   "source": [
    "for feature_path in tqdm(feature_paths):\n",
    "    features = np.load(feature_path)\n",
    "    D, I = kmeans.index.search(features, 1)\n",
    "\n",
    "    relative_path = feature_path.relative_to(feature_dir)\n",
    "    output_path = output_dir / relative_path\n",
    "    output_path.parent.mkdir(parents=True, exist_ok=True)\n",
    "    I = I[:,0]\n",
    "    np.save(output_path, I)"
   ]
  },
  {
   "cell_type": "code",
   "execution_count": null,
   "metadata": {},
   "outputs": [],
   "source": []
  }
 ],
 "metadata": {
  "kernelspec": {
   "display_name": "faiss-cpu",
   "language": "python",
   "name": "python3"
  },
  "language_info": {
   "codemirror_mode": {
    "name": "ipython",
    "version": 3
   },
   "file_extension": ".py",
   "mimetype": "text/x-python",
   "name": "python",
   "nbconvert_exporter": "python",
   "pygments_lexer": "ipython3",
   "version": "3.10.13"
  }
 },
 "nbformat": 4,
 "nbformat_minor": 2
}
