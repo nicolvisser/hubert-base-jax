{
 "cells": [
  {
   "cell_type": "code",
   "execution_count": 11,
   "metadata": {},
   "outputs": [],
   "source": [
    "from pathlib import Path\n",
    "\n",
    "import faiss\n",
    "import numpy as np\n",
    "from tqdm import tqdm"
   ]
  },
  {
   "cell_type": "code",
   "execution_count": 8,
   "metadata": {},
   "outputs": [],
   "source": [
    "feature_dir = Path(\"./data/mfcc/dev-clean\")\n",
    "num_clusters = 500\n",
    "output_dir = Path(\"./data/mfcc-cluster-ids/dev-clean\")"
   ]
  },
  {
   "cell_type": "code",
   "execution_count": 3,
   "metadata": {},
   "outputs": [
    {
     "name": "stdout",
     "output_type": "stream",
     "text": [
      "Found 2703 feature files\n"
     ]
    }
   ],
   "source": [
    "feature_paths = list(feature_dir.rglob(\"*.npy\"))\n",
    "print(f\"Found {len(feature_paths)} feature files\")"
   ]
  },
  {
   "cell_type": "code",
   "execution_count": 4,
   "metadata": {},
   "outputs": [],
   "source": [
    "features = [np.load(path) for path in feature_paths]"
   ]
  },
  {
   "cell_type": "code",
   "execution_count": 5,
   "metadata": {},
   "outputs": [],
   "source": [
    "features = np.concatenate(features, axis=0)"
   ]
  },
  {
   "cell_type": "code",
   "execution_count": 6,
   "metadata": {},
   "outputs": [
    {
     "data": {
      "text/plain": [
       "(1939016, 39)"
      ]
     },
     "execution_count": 6,
     "metadata": {},
     "output_type": "execute_result"
    }
   ],
   "source": [
    "features.shape"
   ]
  },
  {
   "cell_type": "code",
   "execution_count": 7,
   "metadata": {},
   "outputs": [
    {
     "name": "stdout",
     "output_type": "stream",
     "text": [
      "Clustering 1939016 points in 39D to 500 clusters, redo 1 times, 100 iterations\n",
      "  Preprocessing in 0.06 s\n",
      "  Iteration 99 (66.78 s, search 62.89 s): objective=2.3356e+09 imbalance=1.152 nsplit=0        \n"
     ]
    }
   ],
   "source": [
    "d = features.shape[1]\n",
    "\n",
    "kmeans = faiss.Kmeans(\n",
    "    d,\n",
    "    num_clusters,\n",
    "    niter=100,\n",
    "    nredo=1,\n",
    "    max_points_per_centroid=50000,\n",
    "    spherical=False,\n",
    "    verbose=True,\n",
    ")\n",
    "\n",
    "kmeans.train(features)\n",
    "\n",
    "cluster_centers = kmeans.centroids\n",
    "\n",
    "# Save cluster centers\n",
    "# np.save(\"cluster_centers.npy\", cluster_centers)\n"
   ]
  },
  {
   "cell_type": "code",
   "execution_count": 12,
   "metadata": {},
   "outputs": [
    {
     "name": "stderr",
     "output_type": "stream",
     "text": [
      "  0%|          | 0/2703 [00:00<?, ?it/s]"
     ]
    },
    {
     "name": "stderr",
     "output_type": "stream",
     "text": [
      "100%|██████████| 2703/2703 [00:02<00:00, 1056.51it/s]\n"
     ]
    }
   ],
   "source": [
    "# now do inference\n",
    "\n",
    "for feature_path in tqdm(feature_paths):\n",
    "    features = np.load(feature_path)\n",
    "    D, I = kmeans.index.search(features, 1)\n",
    "\n",
    "    relative_path = feature_path.relative_to(feature_dir)\n",
    "    output_path = output_dir / relative_path\n",
    "    output_path.parent.mkdir(parents=True, exist_ok=True)\n",
    "    I = I[:,0]\n",
    "    np.save(output_path, I)"
   ]
  },
  {
   "cell_type": "code",
   "execution_count": null,
   "metadata": {},
   "outputs": [],
   "source": []
  }
 ],
 "metadata": {
  "kernelspec": {
   "display_name": "faiss-cpu",
   "language": "python",
   "name": "python3"
  },
  "language_info": {
   "codemirror_mode": {
    "name": "ipython",
    "version": 3
   },
   "file_extension": ".py",
   "mimetype": "text/x-python",
   "name": "python",
   "nbconvert_exporter": "python",
   "pygments_lexer": "ipython3",
   "version": "3.10.13"
  }
 },
 "nbformat": 4,
 "nbformat_minor": 2
}
