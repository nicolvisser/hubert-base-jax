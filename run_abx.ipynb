{
 "cells": [
  {
   "cell_type": "code",
   "execution_count": null,
   "metadata": {},
   "outputs": [],
   "source": [
    "import json\n",
    "from pathlib import Path\n",
    "\n",
    "import zrc_abx2"
   ]
  },
  {
   "cell_type": "code",
   "execution_count": null,
   "metadata": {},
   "outputs": [],
   "source": [
    "context_mode = \"within\"\n",
    "speaker_mode = \"within\"\n",
    "layers = range(5, 10)\n",
    "\n",
    "item_file_path = (\n",
    "    Path(\"~/zr-data/datasets/abxLS-dataset/dev-clean/phoneme-dev-clean.item\")\n",
    "    .expanduser()\n",
    "    .absolute()\n",
    ")"
   ]
  },
  {
   "cell_type": "code",
   "execution_count": 1,
   "metadata": {},
   "outputs": [],
   "source": [
    "for i in layers:\n",
    "    output_path = Path(\n",
    "        f\"output/layer_{i}/abx_{context_mode}_{speaker_mode}_results_layer_{i}.json\"\n",
    "    )\n",
    "    features_dir = Path(\"output/layer_{i}\").absolute()\n",
    "\n",
    "    args = zrc_abx2.EvalArgs(\n",
    "        path_data=features_dir,\n",
    "        path_item_file=item_file_path,\n",
    "        file_extension=\".npy\",\n",
    "        feature_size=0.02,\n",
    "        cuda=False,\n",
    "        context_mode=context_mode,\n",
    "        speaker_mode=speaker_mode,\n",
    "        distance_mode=\"cosine\",\n",
    "        max_size_group=10,\n",
    "        max_x_across=5,\n",
    "        seed=3459,\n",
    "    )\n",
    "\n",
    "    result = zrc_abx2.EvalABX().eval_abx(args)[0]\n",
    "\n",
    "    with open(output_path, \"w\") as f:\n",
    "        json.dump(result, f, indent=4)"
   ]
  }
 ],
 "metadata": {
  "kernelspec": {
   "display_name": ".venv",
   "language": "python",
   "name": "python3"
  },
  "language_info": {
   "codemirror_mode": {
    "name": "ipython",
    "version": 3
   },
   "file_extension": ".py",
   "mimetype": "text/x-python",
   "name": "python",
   "nbconvert_exporter": "python",
   "pygments_lexer": "ipython3",
   "version": "3.10.13"
  }
 },
 "nbformat": 4,
 "nbformat_minor": 2
}
